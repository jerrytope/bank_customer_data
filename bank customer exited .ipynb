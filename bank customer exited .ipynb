{
 "cells": [
  {
   "cell_type": "code",
   "execution_count": 1,
   "id": "c410b484",
   "metadata": {},
   "outputs": [],
   "source": [
    "import tensorflow as tf\n",
    "from tensorflow import keras\n",
    "import numpy as np\n",
    "from  matplotlib import pyplot as plt"
   ]
  },
  {
   "cell_type": "code",
   "execution_count": 2,
   "id": "9c594c90",
   "metadata": {},
   "outputs": [
    {
     "data": {
      "text/html": [
       "<div>\n",
       "<style scoped>\n",
       "    .dataframe tbody tr th:only-of-type {\n",
       "        vertical-align: middle;\n",
       "    }\n",
       "\n",
       "    .dataframe tbody tr th {\n",
       "        vertical-align: top;\n",
       "    }\n",
       "\n",
       "    .dataframe thead th {\n",
       "        text-align: right;\n",
       "    }\n",
       "</style>\n",
       "<table border=\"1\" class=\"dataframe\">\n",
       "  <thead>\n",
       "    <tr style=\"text-align: right;\">\n",
       "      <th></th>\n",
       "      <th>RowNumber</th>\n",
       "      <th>CustomerId</th>\n",
       "      <th>Surname</th>\n",
       "      <th>CreditScore</th>\n",
       "      <th>Geography</th>\n",
       "      <th>Gender</th>\n",
       "      <th>Age</th>\n",
       "      <th>Tenure</th>\n",
       "      <th>Balance</th>\n",
       "      <th>NumOfProducts</th>\n",
       "      <th>HasCrCard</th>\n",
       "      <th>IsActiveMember</th>\n",
       "      <th>EstimatedSalary</th>\n",
       "      <th>Exited</th>\n",
       "    </tr>\n",
       "  </thead>\n",
       "  <tbody>\n",
       "    <tr>\n",
       "      <th>0</th>\n",
       "      <td>1</td>\n",
       "      <td>15634602</td>\n",
       "      <td>Hargrave</td>\n",
       "      <td>619</td>\n",
       "      <td>France</td>\n",
       "      <td>Female</td>\n",
       "      <td>42</td>\n",
       "      <td>2</td>\n",
       "      <td>0.00</td>\n",
       "      <td>1</td>\n",
       "      <td>1</td>\n",
       "      <td>1</td>\n",
       "      <td>101348.88</td>\n",
       "      <td>1</td>\n",
       "    </tr>\n",
       "    <tr>\n",
       "      <th>1</th>\n",
       "      <td>2</td>\n",
       "      <td>15647311</td>\n",
       "      <td>Hill</td>\n",
       "      <td>608</td>\n",
       "      <td>Spain</td>\n",
       "      <td>Female</td>\n",
       "      <td>41</td>\n",
       "      <td>1</td>\n",
       "      <td>83807.86</td>\n",
       "      <td>1</td>\n",
       "      <td>0</td>\n",
       "      <td>1</td>\n",
       "      <td>112542.58</td>\n",
       "      <td>0</td>\n",
       "    </tr>\n",
       "    <tr>\n",
       "      <th>2</th>\n",
       "      <td>3</td>\n",
       "      <td>15619304</td>\n",
       "      <td>Onio</td>\n",
       "      <td>502</td>\n",
       "      <td>France</td>\n",
       "      <td>Female</td>\n",
       "      <td>42</td>\n",
       "      <td>8</td>\n",
       "      <td>159660.80</td>\n",
       "      <td>3</td>\n",
       "      <td>1</td>\n",
       "      <td>0</td>\n",
       "      <td>113931.57</td>\n",
       "      <td>1</td>\n",
       "    </tr>\n",
       "    <tr>\n",
       "      <th>3</th>\n",
       "      <td>4</td>\n",
       "      <td>15701354</td>\n",
       "      <td>Boni</td>\n",
       "      <td>699</td>\n",
       "      <td>France</td>\n",
       "      <td>Female</td>\n",
       "      <td>39</td>\n",
       "      <td>1</td>\n",
       "      <td>0.00</td>\n",
       "      <td>2</td>\n",
       "      <td>0</td>\n",
       "      <td>0</td>\n",
       "      <td>93826.63</td>\n",
       "      <td>0</td>\n",
       "    </tr>\n",
       "    <tr>\n",
       "      <th>4</th>\n",
       "      <td>5</td>\n",
       "      <td>15737888</td>\n",
       "      <td>Mitchell</td>\n",
       "      <td>850</td>\n",
       "      <td>Spain</td>\n",
       "      <td>Female</td>\n",
       "      <td>43</td>\n",
       "      <td>2</td>\n",
       "      <td>125510.82</td>\n",
       "      <td>1</td>\n",
       "      <td>1</td>\n",
       "      <td>1</td>\n",
       "      <td>79084.10</td>\n",
       "      <td>0</td>\n",
       "    </tr>\n",
       "  </tbody>\n",
       "</table>\n",
       "</div>"
      ],
      "text/plain": [
       "   RowNumber  CustomerId   Surname  CreditScore Geography  Gender  Age  \\\n",
       "0          1    15634602  Hargrave          619    France  Female   42   \n",
       "1          2    15647311      Hill          608     Spain  Female   41   \n",
       "2          3    15619304      Onio          502    France  Female   42   \n",
       "3          4    15701354      Boni          699    France  Female   39   \n",
       "4          5    15737888  Mitchell          850     Spain  Female   43   \n",
       "\n",
       "   Tenure    Balance  NumOfProducts  HasCrCard  IsActiveMember  \\\n",
       "0       2       0.00              1          1               1   \n",
       "1       1   83807.86              1          0               1   \n",
       "2       8  159660.80              3          1               0   \n",
       "3       1       0.00              2          0               0   \n",
       "4       2  125510.82              1          1               1   \n",
       "\n",
       "   EstimatedSalary  Exited  \n",
       "0        101348.88       1  \n",
       "1        112542.58       0  \n",
       "2        113931.57       1  \n",
       "3         93826.63       0  \n",
       "4         79084.10       0  "
      ]
     },
     "execution_count": 2,
     "metadata": {},
     "output_type": "execute_result"
    }
   ],
   "source": [
    "import pandas as pd\n",
    "df = pd.read_csv(\"Churn_Modelling.csv\")\n",
    "df.head(5)\n"
   ]
  },
  {
   "cell_type": "code",
   "execution_count": 3,
   "id": "5de3cd0f",
   "metadata": {},
   "outputs": [
    {
     "data": {
      "text/plain": [
       "(10000, 14)"
      ]
     },
     "execution_count": 3,
     "metadata": {},
     "output_type": "execute_result"
    }
   ],
   "source": [
    "df.shape"
   ]
  },
  {
   "cell_type": "code",
   "execution_count": 5,
   "id": "feeed926",
   "metadata": {},
   "outputs": [],
   "source": [
    "df = df.drop([\"RowNumber\", \"CustomerId\", \"Surname\"], axis = \"columns\")"
   ]
  },
  {
   "cell_type": "code",
   "execution_count": 6,
   "id": "4796ca36",
   "metadata": {},
   "outputs": [
    {
     "data": {
      "text/plain": [
       "CreditScore          int64\n",
       "Geography           object\n",
       "Gender              object\n",
       "Age                  int64\n",
       "Tenure               int64\n",
       "Balance            float64\n",
       "NumOfProducts        int64\n",
       "HasCrCard            int64\n",
       "IsActiveMember       int64\n",
       "EstimatedSalary    float64\n",
       "Exited               int64\n",
       "dtype: object"
      ]
     },
     "execution_count": 6,
     "metadata": {},
     "output_type": "execute_result"
    }
   ],
   "source": [
    "df.dtypes"
   ]
  },
  {
   "cell_type": "code",
   "execution_count": 10,
   "id": "127bbe71",
   "metadata": {},
   "outputs": [
    {
     "data": {
      "text/plain": [
       "1        1\n",
       "3        1\n",
       "4        2\n",
       "6        7\n",
       "8        4\n",
       "        ..\n",
       "9993     7\n",
       "9994     2\n",
       "9995     5\n",
       "9996    10\n",
       "9999     4\n",
       "Name: Tenure, Length: 7963, dtype: int64"
      ]
     },
     "execution_count": 10,
     "metadata": {},
     "output_type": "execute_result"
    }
   ],
   "source": [
    "tenure_churn_no = df[df[\"Exited\"] == 0].Tenure\n",
    "tenure_churn_yes = df[df[\"Exited\"] == 1].Tenure\n",
    "tenure_churn_no"
   ]
  },
  {
   "cell_type": "code",
   "execution_count": 12,
   "id": "dd81e796",
   "metadata": {},
   "outputs": [
    {
     "data": {
      "text/plain": [
       "<matplotlib.legend.Legend at 0x2363e9ce880>"
      ]
     },
     "execution_count": 12,
     "metadata": {},
     "output_type": "execute_result"
    },
    {
     "data": {
      "image/png": "[encoded data removed]",
      "text/plain": [
       "<Figure size 432x288 with 1 Axes>"
      ]
     },
     "metadata": {
      "needs_background": "light"
     },
     "output_type": "display_data"
    }
   ],
   "source": [
    "plt.xlabel(\"tenure\")\n",
    "plt.ylabel(\"Number of customer \")\n",
    "plt.title(\"customer churn prediction \")\n",
    "plt.hist([tenure_churn_yes,tenure_churn_no], color = [\"green\", \"red\"], label = [\"churn = 1\", \"churn = 0\"])\n",
    "plt.legend()"
   ]
  },
  {
   "cell_type": "code",
   "execution_count": 13,
   "id": "8df90853",
   "metadata": {},
   "outputs": [
    {
     "data": {
      "text/plain": [
       "<matplotlib.legend.Legend at 0x2363ea6a9a0>"
      ]
     },
     "execution_count": 13,
     "metadata": {},
     "output_type": "execute_result"
    },
    {
     "data": {
      "image/png": "[encoded data removed]",
      "text/plain": [
       "<Figure size 432x288 with 1 Axes>"
      ]
     },
     "metadata": {
      "needs_background": "light"
     },
     "output_type": "display_data"
    }
   ],
   "source": [
    "tenure_churn_no = df[df[\"Exited\"] == 0].Balance\n",
    "tenure_churn_yes = df[df[\"Exited\"] == 1].Balance\n",
    "tenure_churn_no\n",
    "plt.xlabel(\"tenure\")\n",
    "plt.ylabel(\"Number of customer \")\n",
    "plt.title(\"customer churn prediction \")\n",
    "plt.hist([tenure_churn_yes,tenure_churn_no], color = [\"green\", \"red\"], label = [\"churn = 1\", \"churn = 0\"])\n",
    "plt.legend()"
   ]
  },
  {
   "cell_type": "code",
   "execution_count": 14,
   "id": "1ccbe1eb",
   "metadata": {},
   "outputs": [],
   "source": [
    "def unique_values(df):\n",
    "    for column in df:\n",
    "        if df[column].dtypes == \"object\":\n",
    "            print(f' {column}: {df[column].unique()}')"
   ]
  },
  {
   "cell_type": "code",
   "execution_count": 15,
   "id": "287a86c1",
   "metadata": {},
   "outputs": [
    {
     "name": "stdout",
     "output_type": "stream",
     "text": [
      " Geography: ['France' 'Spain' 'Germany']\n",
      " Gender: ['Female' 'Male']\n"
     ]
    }
   ],
   "source": [
    "unique_values(df)"
   ]
  },
  {
   "cell_type": "code",
   "execution_count": 16,
   "id": "a2f11df4",
   "metadata": {},
   "outputs": [],
   "source": [
    "df.replace({\"Female\": 1, \"Male\":0}, inplace = True)"
   ]
  },
  {
   "cell_type": "code",
   "execution_count": 18,
   "id": "d5bd3892",
   "metadata": {},
   "outputs": [
    {
     "data": {
      "text/plain": [
       "CreditScore          int64\n",
       "Geography           object\n",
       "Gender               int64\n",
       "Age                  int64\n",
       "Tenure               int64\n",
       "Balance            float64\n",
       "NumOfProducts        int64\n",
       "HasCrCard            int64\n",
       "IsActiveMember       int64\n",
       "EstimatedSalary    float64\n",
       "Exited               int64\n",
       "dtype: object"
      ]
     },
     "execution_count": 18,
     "metadata": {},
     "output_type": "execute_result"
    }
   ],
   "source": [
    "df.dtypes"
   ]
  },
  {
   "cell_type": "code",
   "execution_count": 21,
   "id": "02fd9d67",
   "metadata": {},
   "outputs": [],
   "source": [
    "df1 = pd.get_dummies(data = df, columns = [\"Geography\"])"
   ]
  },
  {
   "cell_type": "code",
   "execution_count": 22,
   "id": "d0589a05",
   "metadata": {},
   "outputs": [
    {
     "data": {
      "text/plain": [
       "CreditScore            int64\n",
       "Gender                 int64\n",
       "Age                    int64\n",
       "Tenure                 int64\n",
       "Balance              float64\n",
       "NumOfProducts          int64\n",
       "HasCrCard              int64\n",
       "IsActiveMember         int64\n",
       "EstimatedSalary      float64\n",
       "Exited                 int64\n",
       "Geography_France       uint8\n",
       "Geography_Germany      uint8\n",
       "Geography_Spain        uint8\n",
       "dtype: object"
      ]
     },
     "execution_count": 22,
     "metadata": {},
     "output_type": "execute_result"
    }
   ],
   "source": [
    "df1.dtypes"
   ]
  },
  {
   "cell_type": "code",
   "execution_count": 24,
   "id": "200d541d",
   "metadata": {},
   "outputs": [],
   "source": [
    "cols_to_scale = [\"Tenure\",\"EstimatedSalary\",\"Age\", \"Balance\"]\n",
    "from sklearn.preprocessing import MinMaxScaler\n",
    "scaler = MinMaxScaler()\n",
    "df1[cols_to_scale] = scaler.fit_transform(df1[cols_to_scale])"
   ]
  },
  {
   "cell_type": "code",
   "execution_count": 26,
   "id": "18fcf5fe",
   "metadata": {},
   "outputs": [
    {
     "data": {
      "text/html": [
       "<div>\n",
       "<style scoped>\n",
       "    .dataframe tbody tr th:only-of-type {\n",
       "        vertical-align: middle;\n",
       "    }\n",
       "\n",
       "    .dataframe tbody tr th {\n",
       "        vertical-align: top;\n",
       "    }\n",
       "\n",
       "    .dataframe thead th {\n",
       "        text-align: right;\n",
       "    }\n",
       "</style>\n",
       "<table border=\"1\" class=\"dataframe\">\n",
       "  <thead>\n",
       "    <tr style=\"text-align: right;\">\n",
       "      <th></th>\n",
       "      <th>CreditScore</th>\n",
       "      <th>Gender</th>\n",
       "      <th>Age</th>\n",
       "      <th>Tenure</th>\n",
       "      <th>Balance</th>\n",
       "      <th>NumOfProducts</th>\n",
       "      <th>HasCrCard</th>\n",
       "      <th>IsActiveMember</th>\n",
       "      <th>EstimatedSalary</th>\n",
       "      <th>Exited</th>\n",
       "      <th>Geography_France</th>\n",
       "      <th>Geography_Germany</th>\n",
       "      <th>Geography_Spain</th>\n",
       "    </tr>\n",
       "  </thead>\n",
       "  <tbody>\n",
       "    <tr>\n",
       "      <th>2997</th>\n",
       "      <td>655</td>\n",
       "      <td>1</td>\n",
       "      <td>0.108108</td>\n",
       "      <td>0.7</td>\n",
       "      <td>0.423273</td>\n",
       "      <td>1</td>\n",
       "      <td>0</td>\n",
       "      <td>1</td>\n",
       "      <td>0.160059</td>\n",
       "      <td>0</td>\n",
       "      <td>1</td>\n",
       "      <td>0</td>\n",
       "      <td>0</td>\n",
       "    </tr>\n",
       "    <tr>\n",
       "      <th>233</th>\n",
       "      <td>767</td>\n",
       "      <td>0</td>\n",
       "      <td>0.027027</td>\n",
       "      <td>0.3</td>\n",
       "      <td>0.477143</td>\n",
       "      <td>2</td>\n",
       "      <td>0</td>\n",
       "      <td>1</td>\n",
       "      <td>0.750691</td>\n",
       "      <td>0</td>\n",
       "      <td>0</td>\n",
       "      <td>1</td>\n",
       "      <td>0</td>\n",
       "    </tr>\n",
       "    <tr>\n",
       "      <th>5840</th>\n",
       "      <td>616</td>\n",
       "      <td>0</td>\n",
       "      <td>0.716216</td>\n",
       "      <td>0.4</td>\n",
       "      <td>0.000000</td>\n",
       "      <td>2</td>\n",
       "      <td>1</td>\n",
       "      <td>1</td>\n",
       "      <td>0.868022</td>\n",
       "      <td>0</td>\n",
       "      <td>0</td>\n",
       "      <td>0</td>\n",
       "      <td>1</td>\n",
       "    </tr>\n",
       "  </tbody>\n",
       "</table>\n",
       "</div>"
      ],
      "text/plain": [
       "      CreditScore  Gender       Age  Tenure   Balance  NumOfProducts  \\\n",
       "2997          655       1  0.108108     0.7  0.423273              1   \n",
       "233           767       0  0.027027     0.3  0.477143              2   \n",
       "5840          616       0  0.716216     0.4  0.000000              2   \n",
       "\n",
       "      HasCrCard  IsActiveMember  EstimatedSalary  Exited  Geography_France  \\\n",
       "2997          0               1         0.160059       0                 1   \n",
       "233           0               1         0.750691       0                 0   \n",
       "5840          1               1         0.868022       0                 0   \n",
       "\n",
       "      Geography_Germany  Geography_Spain  \n",
       "2997                  0                0  \n",
       "233                   1                0  \n",
       "5840                  0                1  "
      ]
     },
     "execution_count": 26,
     "metadata": {},
     "output_type": "execute_result"
    }
   ],
   "source": [
    "df1.sample(3)"
   ]
  },
  {
   "cell_type": "code",
   "execution_count": 28,
   "id": "9de5aed3",
   "metadata": {},
   "outputs": [],
   "source": [
    "X = df1.drop(\"Exited\", axis = \"columns\")\n",
    "Y = df1.Exited"
   ]
  },
  {
   "cell_type": "code",
   "execution_count": 40,
   "id": "ca772bbf",
   "metadata": {},
   "outputs": [],
   "source": [
    "from sklearn.model_selection import train_test_split\n",
    "X_train, X_test, Y_train, Y_test = train_test_split(X, Y, test_size=0.2, random_state = 10)"
   ]
  },
  {
   "cell_type": "code",
   "execution_count": 41,
   "id": "63b16e96",
   "metadata": {},
   "outputs": [
    {
     "data": {
      "text/plain": [
       "(8000, 12)"
      ]
     },
     "execution_count": 41,
     "metadata": {},
     "output_type": "execute_result"
    }
   ],
   "source": [
    "X_train.shape"
   ]
  },
  {
   "cell_type": "code",
   "execution_count": 42,
   "id": "ff796735",
   "metadata": {},
   "outputs": [
    {
     "name": "stdout",
     "output_type": "stream",
     "text": [
      "Epoch 1/50\n",
      "250/250 [==============================] - 0s 1ms/step - loss: 0.5304 - accuracy: 0.7912\n",
      "Epoch 2/50\n",
      "250/250 [==============================] - 0s 1ms/step - loss: 0.5058 - accuracy: 0.7976\n",
      "Epoch 3/50\n",
      "250/250 [==============================] - 0s 2ms/step - loss: 0.5109 - accuracy: 0.7947\n",
      "Epoch 4/50\n",
      "250/250 [==============================] - 0s 2ms/step - loss: 0.4807 - accuracy: 0.7983\n",
      "Epoch 5/50\n",
      "250/250 [==============================] - 0s 2ms/step - loss: 0.4729 - accuracy: 0.8023\n",
      "Epoch 6/50\n",
      "250/250 [==============================] - 0s 2ms/step - loss: 0.4856 - accuracy: 0.7972\n",
      "Epoch 7/50\n",
      "250/250 [==============================] - 0s 1ms/step - loss: 0.4724 - accuracy: 0.8002\n",
      "Epoch 8/50\n",
      "250/250 [==============================] - 0s 2ms/step - loss: 0.4739 - accuracy: 0.7980\n",
      "Epoch 9/50\n",
      "250/250 [==============================] - 0s 1ms/step - loss: 0.4608 - accuracy: 0.8049\n",
      "Epoch 10/50\n",
      "250/250 [==============================] - 0s 878us/step - loss: 0.4708 - accuracy: 0.7980\n",
      "Epoch 11/50\n",
      "250/250 [==============================] - 0s 893us/step - loss: 0.4606 - accuracy: 0.7997\n",
      "Epoch 12/50\n",
      "250/250 [==============================] - 0s 906us/step - loss: 0.4547 - accuracy: 0.8033\n",
      "Epoch 13/50\n",
      "250/250 [==============================] - 0s 926us/step - loss: 0.4706 - accuracy: 0.8012\n",
      "Epoch 14/50\n",
      "250/250 [==============================] - 0s 976us/step - loss: 0.4876 - accuracy: 0.7974\n",
      "Epoch 15/50\n",
      "250/250 [==============================] - 0s 2ms/step - loss: 0.4628 - accuracy: 0.8055\n",
      "Epoch 16/50\n",
      "250/250 [==============================] - 0s 2ms/step - loss: 0.4724 - accuracy: 0.7996\n",
      "Epoch 17/50\n",
      "250/250 [==============================] - 0s 2ms/step - loss: 0.4579 - accuracy: 0.8054\n",
      "Epoch 18/50\n",
      "250/250 [==============================] - 0s 2ms/step - loss: 0.4571 - accuracy: 0.8062\n",
      "Epoch 19/50\n",
      "250/250 [==============================] - 0s 1ms/step - loss: 0.4811 - accuracy: 0.7935\n",
      "Epoch 20/50\n",
      "250/250 [==============================] - 0s 808us/step - loss: 0.4660 - accuracy: 0.8023\n",
      "Epoch 21/50\n",
      "250/250 [==============================] - 0s 1ms/step - loss: 0.4554 - accuracy: 0.8031\n",
      "Epoch 22/50\n",
      "250/250 [==============================] - 0s 2ms/step - loss: 0.4557 - accuracy: 0.8074\n",
      "Epoch 23/50\n",
      "250/250 [==============================] - 0s 1ms/step - loss: 0.4820 - accuracy: 0.7946\n",
      "Epoch 24/50\n",
      "250/250 [==============================] - 0s 2ms/step - loss: 0.4542 - accuracy: 0.8050\n",
      "Epoch 25/50\n",
      "250/250 [==============================] - 0s 2ms/step - loss: 0.4509 - accuracy: 0.8076\n",
      "Epoch 26/50\n",
      "250/250 [==============================] - 0s 2ms/step - loss: 0.4536 - accuracy: 0.8064\n",
      "Epoch 27/50\n",
      "250/250 [==============================] - 0s 2ms/step - loss: 0.4624 - accuracy: 0.8074\n",
      "Epoch 28/50\n",
      "250/250 [==============================] - 0s 2ms/step - loss: 0.4597 - accuracy: 0.8065\n",
      "Epoch 29/50\n",
      "250/250 [==============================] - 0s 2ms/step - loss: 0.4650 - accuracy: 0.8058\n",
      "Epoch 30/50\n",
      "250/250 [==============================] - 0s 2ms/step - loss: 0.4675 - accuracy: 0.8006\n",
      "Epoch 31/50\n",
      "250/250 [==============================] - 0s 2ms/step - loss: 0.4505 - accuracy: 0.8052\n",
      "Epoch 32/50\n",
      "250/250 [==============================] - 0s 2ms/step - loss: 0.4559 - accuracy: 0.8073\n",
      "Epoch 33/50\n",
      "250/250 [==============================] - 0s 2ms/step - loss: 0.4600 - accuracy: 0.8043\n",
      "Epoch 34/50\n",
      "250/250 [==============================] - 0s 2ms/step - loss: 0.4663 - accuracy: 0.8008\n",
      "Epoch 35/50\n",
      "250/250 [==============================] - 0s 2ms/step - loss: 0.4645 - accuracy: 0.8035\n",
      "Epoch 36/50\n",
      "250/250 [==============================] - 0s 2ms/step - loss: 0.4497 - accuracy: 0.8060\n",
      "Epoch 37/50\n",
      "250/250 [==============================] - 0s 2ms/step - loss: 0.4475 - accuracy: 0.8067\n",
      "Epoch 38/50\n",
      "250/250 [==============================] - 0s 2ms/step - loss: 0.4598 - accuracy: 0.8067\n",
      "Epoch 39/50\n",
      "250/250 [==============================] - 0s 2ms/step - loss: 0.4459 - accuracy: 0.8060\n",
      "Epoch 40/50\n",
      "250/250 [==============================] - 0s 1ms/step - loss: 0.4539 - accuracy: 0.8065\n",
      "Epoch 41/50\n",
      "250/250 [==============================] - 0s 2ms/step - loss: 0.4525 - accuracy: 0.8045\n",
      "Epoch 42/50\n",
      "250/250 [==============================] - 0s 2ms/step - loss: 0.4537 - accuracy: 0.8066\n",
      "Epoch 43/50\n",
      "250/250 [==============================] - 0s 2ms/step - loss: 0.4651 - accuracy: 0.7990\n",
      "Epoch 44/50\n",
      "250/250 [==============================] - 0s 2ms/step - loss: 0.4468 - accuracy: 0.8064\n",
      "Epoch 45/50\n",
      "250/250 [==============================] - 0s 2ms/step - loss: 0.4477 - accuracy: 0.8034\n",
      "Epoch 46/50\n",
      "250/250 [==============================] - 0s 2ms/step - loss: 0.4540 - accuracy: 0.8045\n",
      "Epoch 47/50\n",
      "250/250 [==============================] - 0s 2ms/step - loss: 0.4483 - accuracy: 0.8084\n",
      "Epoch 48/50\n",
      "250/250 [==============================] - 0s 2ms/step - loss: 0.4667 - accuracy: 0.7976\n",
      "Epoch 49/50\n",
      "250/250 [==============================] - 0s 2ms/step - loss: 0.4493 - accuracy: 0.8039\n",
      "Epoch 50/50\n",
      "250/250 [==============================] - 0s 2ms/step - loss: 0.4421 - accuracy: 0.8096\n"
     ]
    },
    {
     "data": {
      "text/plain": [
       "<tensorflow.python.keras.callbacks.History at 0x23642487340>"
      ]
     },
     "execution_count": 42,
     "metadata": {},
     "output_type": "execute_result"
    }
   ],
   "source": [
    "model = keras.Sequential([\n",
    "    keras.layers.Dense(26, input_shape = (12,), activation = \"relu\" ),\n",
    "     #keras.layers.Dense(15,  activation = \"relu\" ),\n",
    "      keras.layers.Dense(1, activation = \"sigmoid\" )\n",
    "])\n",
    "    \n",
    "    \n",
    "model.compile(optimizer = \"adam\",\n",
    "            loss = \"binary_crossentropy\",\n",
    "          metrics = [\"accuracy\"]  \n",
    "             )\n",
    "              \n",
    "model.fit(X_train, Y_train, epochs = 50)"
   ]
  },
  {
   "cell_type": "code",
   "execution_count": 43,
   "id": "9709a4e0",
   "metadata": {
    "scrolled": true
   },
   "outputs": [
    {
     "name": "stdout",
     "output_type": "stream",
     "text": [
      "63/63 [==============================] - 0s 1ms/step - loss: 0.4762 - accuracy: 0.7965\n"
     ]
    },
    {
     "data": {
      "text/plain": [
       "[0.4762282967567444, 0.796500027179718]"
      ]
     },
     "execution_count": 43,
     "metadata": {},
     "output_type": "execute_result"
    }
   ],
   "source": [
    "model.evaluate(X_test, Y_test)"
   ]
  },
  {
   "cell_type": "code",
   "execution_count": 44,
   "id": "25fb5ae8",
   "metadata": {},
   "outputs": [
    {
     "data": {
      "text/plain": [
       "array([[0.15273267],\n",
       "       [0.13128531],\n",
       "       [0.22942767],\n",
       "       ...,\n",
       "       [0.11976659],\n",
       "       [0.3203544 ],\n",
       "       [0.03706118]], dtype=float32)"
      ]
     },
     "execution_count": 44,
     "metadata": {},
     "output_type": "execute_result"
    }
   ],
   "source": [
    "yp = model.predict(X_test)\n",
    "yp"
   ]
  },
  {
   "cell_type": "code",
   "execution_count": 45,
   "id": "b28b476a",
   "metadata": {},
   "outputs": [],
   "source": [
    "y_pred = []\n",
    "\n",
    "for element in yp:\n",
    "    if element > 0.5:\n",
    "        y_pred.append(1)\n",
    "    else:\n",
    "        y_pred.append(0)"
   ]
  },
  {
   "cell_type": "code",
   "execution_count": 46,
   "id": "aeb6004f",
   "metadata": {},
   "outputs": [
    {
     "data": {
      "text/plain": [
       "937     0\n",
       "9355    0\n",
       "2293    1\n",
       "192     0\n",
       "8675    0\n",
       "Name: Exited, dtype: int64"
      ]
     },
     "execution_count": 46,
     "metadata": {},
     "output_type": "execute_result"
    }
   ],
   "source": [
    "Y_test[:5]"
   ]
  },
  {
   "cell_type": "code",
   "execution_count": 47,
   "id": "87461622",
   "metadata": {},
   "outputs": [
    {
     "name": "stdout",
     "output_type": "stream",
     "text": [
      "              precision    recall  f1-score   support\n",
      "\n",
      "           0       0.80      0.99      0.88      1578\n",
      "           1       0.67      0.07      0.13       422\n",
      "\n",
      "    accuracy                           0.80      2000\n",
      "   macro avg       0.73      0.53      0.51      2000\n",
      "weighted avg       0.77      0.80      0.73      2000\n",
      "\n"
     ]
    }
   ],
   "source": [
    "from sklearn.metrics import  classification_report\n",
    "\n",
    "print(classification_report(Y_test, y_pred))"
   ]
  },
  {
   "cell_type": "code",
   "execution_count": 48,
   "id": "ecc009de",
   "metadata": {},
   "outputs": [
    {
     "data": {
      "text/plain": [
       "Text(69.0, 0.5, 'Truth')"
      ]
     },
     "execution_count": 48,
     "metadata": {},
     "output_type": "execute_result"
    },
    {
     "data": {
      "image/png": "[encoded data removed]",
      "text/plain": [
       "<Figure size 720x504 with 2 Axes>"
      ]
     },
     "metadata": {
      "needs_background": "light"
     },
     "output_type": "display_data"
    }
   ],
   "source": [
    "cm = tf.math.confusion_matrix(labels = Y_test, predictions =y_pred)\n",
    "cm\n",
    "\n",
    "import seaborn as sn\n",
    "plt.figure(figsize = (10,7))\n",
    "sn.heatmap(cm, annot = True, fmt = \"d\")\n",
    "plt.xlabel(\"predicted\")\n",
    "plt.ylabel(\"Truth\")"
   ]
  },
  {
   "cell_type": "code",
   "execution_count": null,
   "id": "5bbea352",
   "metadata": {},
   "outputs": [],
   "source": []
  }
 ],
 "metadata": {
  "kernelspec": {
   "display_name": "Python 3",
   "language": "python",
   "name": "python3"
  },
  "language_info": {
   "codemirror_mode": {
    "name": "ipython",
    "version": 3
   },
   "file_extension": ".py",
   "mimetype": "text/x-python",
   "name": "python",
   "nbconvert_exporter": "python",
   "pygments_lexer": "ipython3",
   "version": "3.8.8"
  }
 },
 "nbformat": 4,
 "nbformat_minor": 5
}
